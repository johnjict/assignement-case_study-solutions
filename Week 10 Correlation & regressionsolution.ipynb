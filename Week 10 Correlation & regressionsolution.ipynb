{
  "nbformat": 4,
  "nbformat_minor": 0,
  "metadata": {
    "colab": {
      "name": "Week#7_Solution.ipynb",
      "provenance": [],
      "collapsed_sections": []
    },
    "kernelspec": {
      "name": "python3",
      "display_name": "Python 3"
    },
    "language_info": {
      "name": "python"
    }
  },
  "cells": [
    {
      "cell_type": "code",
      "metadata": {
        "id": "jYbOMDUna3ay"
      },
      "source": [
        "import pandas as pd\n",
        "import seaborn as sns"
      ],
      "execution_count": null,
      "outputs": []
    },
    {
      "cell_type": "code",
      "source": [
        "from google.colab import drive\n",
        "drive.mount('/content/drive')"
      ],
      "metadata": {
        "colab": {
          "base_uri": "https://localhost:8080/"
        },
        "id": "bDiOgX0U0WII",
        "outputId": "2f0bc713-ad2c-4e81-ba17-e64c85b3fbc5"
      },
      "execution_count": null,
      "outputs": [
        {
          "output_type": "stream",
          "name": "stdout",
          "text": [
            "Mounted at /content/drive\n"
          ]
        }
      ]
    },
    {
      "cell_type": "code",
      "metadata": {
        "id": "I9SkBzduZvmH"
      },
      "source": [
        " data = pd.read_csv('/content/drive/MyDrive/DSA/New Case Study/Week#7/Add_sales_data_2018.csv')"
      ],
      "execution_count": null,
      "outputs": []
    },
    {
      "cell_type": "code",
      "metadata": {
        "colab": {
          "base_uri": "https://localhost:8080/",
          "height": 359
        },
        "id": "2vnxvj0qmxhY",
        "outputId": "4006b590-dde3-4350-abbd-fcc84f422b69"
      },
      "source": [
        "data.corr()"
      ],
      "execution_count": null,
      "outputs": [
        {
          "output_type": "execute_result",
          "data": {
            "text/html": [
              "<div>\n",
              "<style scoped>\n",
              "    .dataframe tbody tr th:only-of-type {\n",
              "        vertical-align: middle;\n",
              "    }\n",
              "\n",
              "    .dataframe tbody tr th {\n",
              "        vertical-align: top;\n",
              "    }\n",
              "\n",
              "    .dataframe thead th {\n",
              "        text-align: right;\n",
              "    }\n",
              "</style>\n",
              "<table border=\"1\" class=\"dataframe\">\n",
              "  <thead>\n",
              "    <tr style=\"text-align: right;\">\n",
              "      <th></th>\n",
              "      <th>Add1(in Thousands)</th>\n",
              "      <th>Add2(in Thousands)</th>\n",
              "      <th>Add3(in Thousands)</th>\n",
              "      <th>Add4(in Thousands)</th>\n",
              "      <th>Add5(in Thousands)</th>\n",
              "      <th>Profit(in Thousands)</th>\n",
              "    </tr>\n",
              "  </thead>\n",
              "  <tbody>\n",
              "    <tr>\n",
              "      <th>Add1(in Thousands)</th>\n",
              "      <td>1.000000</td>\n",
              "      <td>0.990976</td>\n",
              "      <td>0.986274</td>\n",
              "      <td>0.976365</td>\n",
              "      <td>0.976716</td>\n",
              "      <td>0.991975</td>\n",
              "    </tr>\n",
              "    <tr>\n",
              "      <th>Add2(in Thousands)</th>\n",
              "      <td>0.990976</td>\n",
              "      <td>1.000000</td>\n",
              "      <td>0.987990</td>\n",
              "      <td>0.989921</td>\n",
              "      <td>0.990285</td>\n",
              "      <td>0.999145</td>\n",
              "    </tr>\n",
              "    <tr>\n",
              "      <th>Add3(in Thousands)</th>\n",
              "      <td>0.986274</td>\n",
              "      <td>0.987990</td>\n",
              "      <td>1.000000</td>\n",
              "      <td>0.991343</td>\n",
              "      <td>0.991908</td>\n",
              "      <td>0.993389</td>\n",
              "    </tr>\n",
              "    <tr>\n",
              "      <th>Add4(in Thousands)</th>\n",
              "      <td>0.976365</td>\n",
              "      <td>0.989921</td>\n",
              "      <td>0.991343</td>\n",
              "      <td>1.000000</td>\n",
              "      <td>0.999699</td>\n",
              "      <td>0.993346</td>\n",
              "    </tr>\n",
              "    <tr>\n",
              "      <th>Add5(in Thousands)</th>\n",
              "      <td>0.976716</td>\n",
              "      <td>0.990285</td>\n",
              "      <td>0.991908</td>\n",
              "      <td>0.999699</td>\n",
              "      <td>1.000000</td>\n",
              "      <td>0.993710</td>\n",
              "    </tr>\n",
              "    <tr>\n",
              "      <th>Profit(in Thousands)</th>\n",
              "      <td>0.991975</td>\n",
              "      <td>0.999145</td>\n",
              "      <td>0.993389</td>\n",
              "      <td>0.993346</td>\n",
              "      <td>0.993710</td>\n",
              "      <td>1.000000</td>\n",
              "    </tr>\n",
              "  </tbody>\n",
              "</table>\n",
              "</div>"
            ],
            "text/plain": [
              "                      Add1(in Thousands)  ...  Profit(in Thousands)\n",
              "Add1(in Thousands)              1.000000  ...              0.991975\n",
              "Add2(in Thousands)              0.990976  ...              0.999145\n",
              "Add3(in Thousands)              0.986274  ...              0.993389\n",
              "Add4(in Thousands)              0.976365  ...              0.993346\n",
              "Add5(in Thousands)              0.976716  ...              0.993710\n",
              "Profit(in Thousands)            0.991975  ...              1.000000\n",
              "\n",
              "[6 rows x 6 columns]"
            ]
          },
          "metadata": {},
          "execution_count": 8
        }
      ]
    },
    {
      "cell_type": "code",
      "source": [
        "sns.heatmap(data.corr() ,annot= True)"
      ],
      "metadata": {
        "colab": {
          "base_uri": "https://localhost:8080/",
          "height": 378
        },
        "id": "mYfRChbZwTCR",
        "outputId": "ede05e9a-a860-41f1-ad9c-078598db2f90"
      },
      "execution_count": null,
      "outputs": [
        {
          "output_type": "execute_result",
          "data": {
            "text/plain": [
              "<matplotlib.axes._subplots.AxesSubplot at 0x7fb9bdd50290>"
            ]
          },
          "metadata": {},
          "execution_count": 9
        },
        {
          "output_type": "display_data",
          "data": {
            "image/png": "[encoded data removed]",
            "text/plain": [
              "<Figure size 432x288 with 2 Axes>"
            ]
          },
          "metadata": {
            "needs_background": "light"
          }
        }
      ]
    },
    {
      "cell_type": "code",
      "metadata": {
        "id": "zkd8KLfAntNg"
      },
      "source": [
        "from sklearn.linear_model import LinearRegression"
      ],
      "execution_count": null,
      "outputs": []
    },
    {
      "cell_type": "code",
      "metadata": {
        "id": "296WTArPqvdK"
      },
      "source": [
        "X= data.drop(['Profit(in Thousands)','Date'],axis = 1)\n",
        "y = data['Profit(in Thousands)']"
      ],
      "execution_count": null,
      "outputs": []
    },
    {
      "cell_type": "code",
      "metadata": {
        "id": "N08RIIr_rNb9"
      },
      "source": [
        "from sklearn.model_selection import train_test_split\n",
        "X_train, X_test, y_train, y_test = train_test_split(X, y, test_size=0.2, random_state=123)"
      ],
      "execution_count": null,
      "outputs": []
    },
    {
      "cell_type": "code",
      "metadata": {
        "colab": {
          "base_uri": "https://localhost:8080/"
        },
        "id": "3_800LlPrnvP",
        "outputId": "6d572a5c-e77d-4851-b1b5-bd6021be6fea"
      },
      "source": [
        "print('Regression coefficients')\n",
        "sim_reg = LinearRegression()\n",
        "\n",
        "sim_reg.fit(X_train,y_train)\n",
        "print(sim_reg.intercept_)\n",
        "print(sim_reg.coef_)"
      ],
      "execution_count": null,
      "outputs": [
        {
          "output_type": "stream",
          "name": "stdout",
          "text": [
            "Regression coefficients\n",
            "-9.094947017729282e-13\n",
            "[ 1.   12.38  3.5   1.    0.9 ]\n"
          ]
        }
      ]
    },
    {
      "cell_type": "code",
      "metadata": {
        "colab": {
          "base_uri": "https://localhost:8080/"
        },
        "id": "e4b4ykPFro7F",
        "outputId": "5d992591-340b-4748-b595-30d8eefbce5e"
      },
      "source": [
        "Profit_pred = sim_reg.predict(X_test)\n",
        "from sklearn.metrics import mean_squared_error, r2_score\n",
        "print(\"R2 Score : \",r2_score(y_test, Profit_pred))\n",
        "print(\"MSE : \",mean_squared_error(y_test, Profit_pred))\n"
      ],
      "execution_count": null,
      "outputs": [
        {
          "output_type": "stream",
          "name": "stdout",
          "text": [
            "R2 Score :  1.0\n",
            "MSE :  5.649038329630433e-25\n"
          ]
        }
      ]
    },
    {
      "cell_type": "code",
      "metadata": {
        "id": "ii5tlYahtMJh"
      },
      "source": [
        "x_predict = [290,312,309,298,320]\n",
        "import numpy as np\n",
        "x_predict = np.array(x_predict).reshape(1,-1)"
      ],
      "execution_count": null,
      "outputs": []
    },
    {
      "cell_type": "code",
      "metadata": {
        "colab": {
          "base_uri": "https://localhost:8080/"
        },
        "id": "A_xBTcWSuOTs",
        "outputId": "1ff9a5f5-780f-42c3-f9f6-82afac564e57"
      },
      "source": [
        "predicted_value = sim_reg.predict(x_predict)\n",
        "print(\"Predicted value : \",predicted_value)"
      ],
      "execution_count": null,
      "outputs": [
        {
          "output_type": "stream",
          "name": "stdout",
          "text": [
            "Predicted value :  [5820.06]\n"
          ]
        },
        {
          "output_type": "stream",
          "name": "stderr",
          "text": [
            "/usr/local/lib/python3.7/dist-packages/sklearn/base.py:446: UserWarning: X does not have valid feature names, but LinearRegression was fitted with feature names\n",
            "  \"X does not have valid feature names, but\"\n"
          ]
        }
      ]
    },
    {
      "cell_type": "code",
      "metadata": {
        "id": "nl0QxkPBuT1X"
      },
      "source": [
        ""
      ],
      "execution_count": null,
      "outputs": []
    }
  ]
}